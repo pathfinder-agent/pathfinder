{
  "cells": [
    {
      "cell_type": "markdown",
      "metadata": {},
      "source": [
        "To begin, visit the [MAST Portal](https://mast.stsci.edu/portal/Mashup/Clients/Mast/Portal.html). In the top-left dropdown menu, select \"MAST Catalogs,\" and then choose \"TESS CTL v8.01\" from the subsequent dropdown. Click on \"Random Search\" and copy the TIC ID of the object you wish to explore."
      ]
    },
    {
      "cell_type": "code",
      "execution_count": null,
      "metadata": {
        "id": "jFXaxBZMQndB"
      },
      "outputs": [],
      "source": [
        "!pip install lightkurve"
      ]
    },
    {
      "cell_type": "code",
      "execution_count": null,
      "metadata": {
        "id": "4Kmylpx7QndC"
      },
      "outputs": [],
      "source": [
        "from lightkurve import search_targetpixelfile\n",
        "from lightkurve import KeplerTargetPixelFile\n",
        "from lightkurve import KeplerLightCurve\n",
        "%matplotlib inline"
      ]
    },
    {
      "cell_type": "markdown",
      "metadata": {
        "id": "_TTL6az2RY-R"
      },
      "source": [
        "Past your TIC ID here:"
      ]
    },
    {
      "cell_type": "code",
      "execution_count": null,
      "metadata": {
        "id": "b3NcO0eIQndC"
      },
      "outputs": [],
      "source": [
        "tic_id = \"TIC [your ID here]\"\n",
        "\n",
        "pixelfiles = search_targetpixelfile(tic_id)\n",
        "pixelfiles"
      ]
    },
    {
      "cell_type": "code",
      "execution_count": null,
      "metadata": {
        "id": "j00QXqVbQndD"
      },
      "outputs": [],
      "source": [
        "pixelfile = pixelfiles[0].download(quality_bitmask='hardest')"
      ]
    },
    {
      "cell_type": "markdown",
      "metadata": {
        "id": "TF9hWOGpRkIU"
      },
      "source": [
        "TPF plots feature a compact grid of pixels, each representing a section of the sky around a target star. Brightness is depicted using a color scale, with the target star appearing as the brightest region."
      ]
    },
    {
      "cell_type": "code",
      "execution_count": null,
      "metadata": {
        "id": "fvzbssgOQndD"
      },
      "outputs": [],
      "source": [
        "pixelfile.plot(frame=0)"
      ]
    },
    {
      "cell_type": "markdown",
      "metadata": {
        "id": "QYp0LLTXTfXK"
      },
      "source": [
        "# Light Curve\n",
        "Light curve plots show the intensity of light received from an object on the vertical axis against time on the horizontal axis. By analyzing the variations in brightness, astronomers can infer important information about the object and its surroundings."
      ]
    },
    {
      "cell_type": "code",
      "execution_count": null,
      "metadata": {
        "id": "oNXpLlL7QndD"
      },
      "outputs": [],
      "source": [
        "lc = pixelfile.to_lightcurve(aperture_mask=pixelfile.pipeline_mask)\n",
        "lc = lc.flatten()\n",
        "lc.scatter(s=0.2)"
      ]
    },
    {
      "cell_type": "markdown",
      "metadata": {
        "id": "QOMsPf_2UEuX"
      },
      "source": [
        "# Periodogram\n",
        "Periodogram is a tool used to identify periodic signals within a light curve by analyzing the frequency content of the data. It helps astronomers detect regular patterns of brightness variations, such as those caused by orbiting exoplanets or rotating stars. By transforming the time-domain light curve data into the frequency domain, a periodogram highlights the dominant frequencies present, allowing researchers to determine the period of repeating events."
      ]
    },
    {
      "cell_type": "code",
      "execution_count": null,
      "metadata": {
        "id": "4hcAgiXcQndD"
      },
      "outputs": [],
      "source": [
        "periodogram = lc.to_periodogram(method='bls')\n",
        "frequency = periodogram.period_at_max_power\n",
        "print('Frequency at max power:', frequency)\n",
        "\n",
        "periodogram.plot()"
      ]
    },
    {
      "cell_type": "markdown",
      "metadata": {
        "id": "96mnWbslUN1M"
      },
      "source": [
        "# Folding\n",
        "Folding is the process of transforming a time-series light curve into a phase plot based on a known or suspected period. This technique is particularly useful for visualizing periodic signals, such as those from transiting exoplanets or rotating stars."
      ]
    },
    {
      "cell_type": "code",
      "execution_count": null,
      "metadata": {
        "id": "WW0n59duQndD"
      },
      "outputs": [],
      "source": [
        "folded = lc.fold(period=frequency, t0=1)\n",
        "folded.scatter(s=0.2)"
      ]
    }
  ],
  "metadata": {
    "colab": {
      "provenance": []
    },
    "kernelspec": {
      "display_name": "venv",
      "language": "python",
      "name": "python3"
    },
    "language_info": {
      "codemirror_mode": {
        "name": "ipython",
        "version": 3
      },
      "file_extension": ".py",
      "mimetype": "text/x-python",
      "name": "python",
      "nbconvert_exporter": "python",
      "pygments_lexer": "ipython3",
      "version": "3.13.2"
    }
  },
  "nbformat": 4,
  "nbformat_minor": 0
}
